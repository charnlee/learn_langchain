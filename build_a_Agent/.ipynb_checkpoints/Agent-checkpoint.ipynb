{
 "cells": [
  {
   "cell_type": "code",
   "execution_count": 2,
   "id": "b1899473-b8b7-49a4-988e-59b3de648615",
   "metadata": {},
   "outputs": [
    {
     "name": "stdin",
     "output_type": "stream",
     "text": [
      " ········\n"
     ]
    }
   ],
   "source": [
    "import getpass\n",
    "import os\n",
    "\n",
    "os.environ[\"TAVILY_API_KEY\"] = getpass.getpass()"
   ]
  },
  {
   "cell_type": "code",
   "execution_count": 3,
   "id": "a3e516b1-d0a5-4f5c-b6f3-cb224d03f56c",
   "metadata": {},
   "outputs": [
    {
     "name": "stdout",
     "output_type": "stream",
     "text": [
      "[{'url': 'https://weather.com/weather/hourbyhour/l/USCA0987:1:US', 'content': \"recents\\nSpecialty Forecasts\\nHourly Weather-San Francisco, CA\\nBeach Hazard Statement\\nSaturday, November 25\\n5 pm\\nClear\\n6 pm\\nClear\\n7 pm\\nClear\\n8 pm\\nMostly Clear\\n9 pm\\nPartly Cloudy\\n10 pm\\nPartly Cloudy\\n11 pm\\nPartly Cloudy\\nSunday, November 26\\n12 am\\nPartly Cloudy\\n1 am\\nMostly Cloudy\\n2 am\\nMostly Cloudy\\n3 am\\nMostly Cloudy\\n4 am\\nCloudy\\n5 am\\nCloudy\\n6 am\\nMostly Cloudy\\n7 am\\nMostly Cloudy\\n8 am\\nMostly Cloudy\\n9 am\\nMostly Cloudy\\n10 am\\nPartly Cloudy\\n11 am\\nPartly Cloudy\\n12 pm\\nPartly Cloudy\\n1 pm\\nPartly Cloudy\\n2 pm\\nPartly Cloudy\\n3 pm\\nPartly Cloudy\\n4 pm\\nPartly Cloudy\\n5 pm\\nPartly Cloudy\\n6 pm\\nPartly Cloudy\\n7 pm\\nPartly Cloudy\\n8 pm\\nPartly Cloudy\\n9 pm\\nMostly Clear\\n10 pm\\nMostly Clear\\n11 pm\\nMostly Clear\\nMonday, November 27\\n12 am\\nClear\\n1 am\\nMostly Clear\\n2 am\\nMostly Clear\\n3 am\\nPartly Cloudy\\n4 am\\nMostly Clear\\n5 am\\nMostly Clear\\n6 am\\nClear\\n7 am\\nClear\\n8 am\\nSunny\\n9 am\\nSunny\\n10 am\\nSunny\\n11 am\\nSunny\\n12 pm\\nMostly Sunny\\n1 pm\\nPartly Cloudy\\n2 pm\\nMostly Sunny\\n3 pm\\nMostly Sunny\\n4 pm\\nPartly Cloudy\\nRadar\\nSafety First!\\n Don't Miss\\nIrresistible\\nWeather Wonders\\nOur Amazing World\\nCelestial Symphony\\nFried Turkey Fail\\nLook At That!\\n Health & Activities\\nSeasonal Allergies and Pollen Count Forecast\\nNo pollen detected in your area\\nCold & Flu Forecast\\nFlu risk is low in your area\\nWe recognize our responsibility to use data and technology for good. Changes For Critters\\nHurricane Tracker\\nStay Safe\\nAir Quality Index\\nAir quality is considered satisfactory, and air pollution poses little or no risk.\\n Take control of your data.\\n\"}, {'url': 'https://www.accuweather.com/en/us/san-francisco/94103/weather-forecast/347629', 'content': 'San Francisco, CA Weather Forecast, with current conditions, wind, air quality, and what to expect for the next 3 days.'}]\n"
     ]
    }
   ],
   "source": [
    "from langchain_community.tools.tavily_search import TavilySearchResults\n",
    "\n",
    "search = TavilySearchResults(max_results=2)\n",
    "search_results = search.invoke(\"what is the weather in SF\")\n",
    "print(search_results)\n",
    "# If we want, we can create other tools.\n",
    "# Once we have all the tools we want, we can put them in a list that we will reference later.\n",
    "tools = [search]"
   ]
  },
  {
   "cell_type": "code",
   "execution_count": 4,
   "id": "13d4b07f-c11f-42d5-a828-234a56d5c74f",
   "metadata": {},
   "outputs": [
    {
     "name": "stdin",
     "output_type": "stream",
     "text": [
      " ········\n"
     ]
    }
   ],
   "source": [
    "import getpass\n",
    "import os\n",
    "\n",
    "os.environ[\"NVIDIA_API_KEY\"] = getpass.getpass()\n",
    "\n",
    "from langchain_nvidia_ai_endpoints import ChatNVIDIA\n",
    "\n",
    "model = ChatNVIDIA(model=\"meta/llama3-70b-instruct\")"
   ]
  },
  {
   "cell_type": "code",
   "execution_count": 5,
   "id": "79514df4-774d-4e57-8136-76bb1760e9ab",
   "metadata": {},
   "outputs": [
    {
     "data": {
      "text/plain": [
       "\"Hi! It's nice to meet you. Is there something I can help you with or would you like to chat?\""
      ]
     },
     "execution_count": 5,
     "metadata": {},
     "output_type": "execute_result"
    }
   ],
   "source": [
    "from langchain_core.messages import HumanMessage\n",
    "\n",
    "response = model.invoke([HumanMessage(content=\"hi!\")])\n",
    "response.content"
   ]
  },
  {
   "cell_type": "code",
   "execution_count": 6,
   "id": "95c976ea-1a43-41bb-a46a-6aa552c60fd0",
   "metadata": {},
   "outputs": [
    {
     "name": "stderr",
     "output_type": "stream",
     "text": [
      "/home/charnlee/miniconda3/envs/myenv/lib/python3.11/site-packages/langchain_nvidia_ai_endpoints/chat_models.py:458: UserWarning: Model 'meta/llama3-70b-instruct' is not known to support tools. Your tool binding may fail at inference time.\n",
      "  warnings.warn(\n"
     ]
    }
   ],
   "source": [
    "model_with_tools = model.bind_tools(tools)"
   ]
  },
  {
   "cell_type": "code",
   "execution_count": 7,
   "id": "44f8c814-2df8-4cb9-8aa8-e740dc9be47d",
   "metadata": {},
   "outputs": [
    {
     "data": {
      "text/plain": [
       "AIMessage(content=\"Hi! It's nice to meet you. Is there something I can help you with or would you like to chat?\", response_metadata={'role': 'assistant', 'content': \"Hi! It's nice to meet you. Is there something I can help you with or would you like to chat?\", 'token_usage': {'prompt_tokens': 12, 'total_tokens': 37, 'completion_tokens': 25}, 'finish_reason': 'stop', 'model_name': 'meta/llama3-70b-instruct'}, id='run-d72f6102-a0aa-4621-b139-8b3ced5e1d4f-0', role='assistant')"
      ]
     },
     "execution_count": 7,
     "metadata": {},
     "output_type": "execute_result"
    }
   ],
   "source": [
    "response = model_with_tools.invoke([HumanMessage(content=\"Hi!\")])\n",
    "\n",
    "response"
   ]
  },
  {
   "cell_type": "code",
   "execution_count": 8,
   "id": "ea3b76d3-66b3-47b9-b8b7-1dc37d0f25a7",
   "metadata": {},
   "outputs": [
    {
     "data": {
      "text/plain": [
       "\"Hi! It's nice to meet you. Is there something I can help you with or would you like to chat?\""
      ]
     },
     "execution_count": 8,
     "metadata": {},
     "output_type": "execute_result"
    }
   ],
   "source": [
    "response.content"
   ]
  },
  {
   "cell_type": "code",
   "execution_count": 9,
   "id": "47911ad6-7e08-474e-a25e-6ea989a7f5c5",
   "metadata": {},
   "outputs": [
    {
     "data": {
      "text/plain": [
       "[]"
      ]
     },
     "execution_count": 9,
     "metadata": {},
     "output_type": "execute_result"
    }
   ],
   "source": [
    "response.tool_calls"
   ]
  },
  {
   "cell_type": "code",
   "execution_count": 11,
   "id": "6f84e7c3-f05b-4787-b05e-fb06297878a0",
   "metadata": {},
   "outputs": [
    {
     "name": "stdout",
     "output_type": "stream",
     "text": [
      "ContentString: San Francisco! The City by the Bay is known for its famous foggy weather, but it's not always gloomy. Here's the current weather in San Francisco:\n",
      "\n",
      "**Current Conditions:**\n",
      "\n",
      "* **Temperature:** 57°F (14°C)\n",
      "* **Conditions:** Partly Cloudy\n",
      "* **Humidity:** 64%\n",
      "* **Wind:** 13 mph (21 km/h) from the WNW\n",
      "\n",
      "**Forecast:**\n",
      "\n",
      "* **Today:** Partly cloudy with a high of 62°F (17°C) and a low of 52°F (11°C).\n",
      "* **Tonight:** Mostly cloudy with a low of 52°F (11°C).\n",
      "* **Tomorrow:** Partly sunny with a high of 65°F (18°C) and a low of 55°F (13°C).\n",
      "\n",
      "Please note that the weather in San Francisco can change quickly, so it's always a good idea to check the latest forecast before heading out.\n",
      "\n",
      "Source: [Current weather data from OpenWeatherMap](https://openweathermap.org/)\n",
      "ToolCalls: []\n"
     ]
    }
   ],
   "source": [
    "response = model_with_tools.invoke([HumanMessage(content=\"What's the weather in SF?\")])\n",
    "\n",
    "print(f\"ContentString: {response.content}\")\n",
    "print(f\"ToolCalls: {response.tool_calls}\")"
   ]
  },
  {
   "cell_type": "code",
   "execution_count": 12,
   "id": "e5d91e8d-f214-4081-ab15-5f5421401c42",
   "metadata": {},
   "outputs": [
    {
     "name": "stderr",
     "output_type": "stream",
     "text": [
      "/home/charnlee/miniconda3/envs/myenv/lib/python3.11/site-packages/langchain_nvidia_ai_endpoints/chat_models.py:458: UserWarning: Model 'meta/llama3-70b-instruct' is not known to support tools. Your tool binding may fail at inference time.\n",
      "  warnings.warn(\n"
     ]
    }
   ],
   "source": [
    "from langgraph.prebuilt import create_react_agent\n",
    "\n",
    "agent_executor = create_react_agent(model,tools)"
   ]
  },
  {
   "cell_type": "code",
   "execution_count": 15,
   "id": "c9e8bbb0-ba59-43f4-b664-101782ae4fe6",
   "metadata": {},
   "outputs": [
    {
     "data": {
      "text/plain": [
       "[HumanMessage(content='hi!', id='b2e903eb-e317-48bf-bbc6-d7b6b8e9b435'),\n",
       " AIMessage(content=\"Hi! It's nice to meet you. Is there something I can help you with or would you like to chat?\", response_metadata={'role': 'assistant', 'content': \"Hi! It's nice to meet you. Is there something I can help you with or would you like to chat?\", 'token_usage': {'prompt_tokens': 12, 'total_tokens': 37, 'completion_tokens': 25}, 'finish_reason': 'stop', 'model_name': 'meta/llama3-70b-instruct'}, id='run-dbfc884b-f852-43fa-adb1-6f46c1bc0508-0', role='assistant')]"
      ]
     },
     "execution_count": 15,
     "metadata": {},
     "output_type": "execute_result"
    }
   ],
   "source": [
    "response = agent_executor.invoke({\"messages\": [HumanMessage(content=\"hi!\")]})\n",
    "\n",
    "response[\"messages\"]"
   ]
  },
  {
   "cell_type": "code",
   "execution_count": 16,
   "id": "202e66f1-3689-4877-a707-8eb09e00dc9c",
   "metadata": {},
   "outputs": [
    {
     "data": {
      "text/plain": [
       "[HumanMessage(content='whats the weather in sf?', id='e12ebf7d-5ac1-4266-87ce-a42779ad5cef'),\n",
       " AIMessage(content=\"San Francisco!\\n\\nAs I'm a large language model, I don't have real-time access to current weather conditions. However, I can suggest some ways for you to find out the current weather in San Francisco:\\n\\n1. Check online weather websites: You can check websites like AccuWeather, Weather.com, or the National Weather Service (NWS) for the current weather conditions in San Francisco.\\n2. Use a weather app: You can download a weather app on your smartphone, such as Dark Sky or Weather Underground, to get real-time weather updates for San Francisco.\\n3. Look out the window: If you're physically in San Francisco, you can simply look out the window to see the current weather conditions!\\n\\nThat being said, San Francisco's weather is known for being quite mild and foggy throughout the year. Here's a general idea of what you can expect:\\n\\n* Summer (June to August): Highs in the mid-60s to low 70s (°F), with foggy mornings and sunny afternoons.\\n* Fall (September to November): Mild temperatures, with highs in the mid-60s to low 70s, and some fog.\\n* Winter (December to February): Cooler temperatures, with highs in the mid-50s to low 60s, and more fog.\\n* Spring (March to May): Mild temperatures, with highs in the mid-60s to low 70s, and some fog.\\n\\nKeep in mind that these are general weather patterns, and the actual weather can vary from day to day.\", response_metadata={'role': 'assistant', 'content': \"San Francisco!\\n\\nAs I'm a large language model, I don't have real-time access to current weather conditions. However, I can suggest some ways for you to find out the current weather in San Francisco:\\n\\n1. Check online weather websites: You can check websites like AccuWeather, Weather.com, or the National Weather Service (NWS) for the current weather conditions in San Francisco.\\n2. Use a weather app: You can download a weather app on your smartphone, such as Dark Sky or Weather Underground, to get real-time weather updates for San Francisco.\\n3. Look out the window: If you're physically in San Francisco, you can simply look out the window to see the current weather conditions!\\n\\nThat being said, San Francisco's weather is known for being quite mild and foggy throughout the year. Here's a general idea of what you can expect:\\n\\n* Summer (June to August): Highs in the mid-60s to low 70s (°F), with foggy mornings and sunny afternoons.\\n* Fall (September to November): Mild temperatures, with highs in the mid-60s to low 70s, and some fog.\\n* Winter (December to February): Cooler temperatures, with highs in the mid-50s to low 60s, and more fog.\\n* Spring (March to May): Mild temperatures, with highs in the mid-60s to low 70s, and some fog.\\n\\nKeep in mind that these are general weather patterns, and the actual weather can vary from day to day.\", 'token_usage': {'prompt_tokens': 17, 'total_tokens': 332, 'completion_tokens': 315}, 'finish_reason': 'stop', 'model_name': 'meta/llama3-70b-instruct'}, id='run-11373781-b67e-4a4f-bcb7-e725c4696a97-0', role='assistant')]"
      ]
     },
     "execution_count": 16,
     "metadata": {},
     "output_type": "execute_result"
    }
   ],
   "source": [
    "response = agent_executor.invoke(\n",
    "    {\"messages\": [HumanMessage(content=\"whats the weather in sf?\")]}\n",
    ")\n",
    "response[\"messages\"]"
   ]
  },
  {
   "cell_type": "code",
   "execution_count": 21,
   "id": "5f554511-91ec-47a2-b734-8061691b56f1",
   "metadata": {},
   "outputs": [
    {
     "name": "stdout",
     "output_type": "stream",
     "text": [
      "{'agent': {'messages': [AIMessage(content=\"San Francisco!\\n\\nAs I'm a large language model, I don't have real-time access to current weather conditions. However, I can suggest some ways for you to find out the current weather in San Francisco:\\n\\n1. Check online weather websites: You can check websites like AccuWeather, Weather.com, or the National Weather Service (NWS) for the current weather conditions in San Francisco.\\n2. Use a weather app: You can download a weather app on your smartphone, such as Dark Sky or Weather Underground, to get real-time weather updates for San Francisco.\\n3. Look out the window: If you're physically in San Francisco, you can simply look out the window to see the current weather conditions!\\n\\nThat being said, San Francisco's weather is known for being quite mild and foggy throughout the year. Here's a general idea of what you can expect:\\n\\n* Summer (June to August): Highs in the mid-60s to low 70s (°F), with foggy mornings and sunny afternoons.\\n* Fall (September to November): Mild temperatures, with highs in the mid-60s to low 70s, and some fog.\\n* Winter (December to February): Cooler temperatures, with highs in the mid-50s to low 60s, and more fog.\\n* Spring (March to May): Mild temperatures, with highs in the mid-60s to low 70s, and some fog.\\n\\nKeep in mind that San Francisco's microclimates can vary greatly depending on the neighborhood and time of day. The city's famous fog can roll in at any time, even during the summer months!\", response_metadata={'role': 'assistant', 'content': \"San Francisco!\\n\\nAs I'm a large language model, I don't have real-time access to current weather conditions. However, I can suggest some ways for you to find out the current weather in San Francisco:\\n\\n1. Check online weather websites: You can check websites like AccuWeather, Weather.com, or the National Weather Service (NWS) for the current weather conditions in San Francisco.\\n2. Use a weather app: You can download a weather app on your smartphone, such as Dark Sky or Weather Underground, to get real-time weather updates for San Francisco.\\n3. Look out the window: If you're physically in San Francisco, you can simply look out the window to see the current weather conditions!\\n\\nThat being said, San Francisco's weather is known for being quite mild and foggy throughout the year. Here's a general idea of what you can expect:\\n\\n* Summer (June to August): Highs in the mid-60s to low 70s (°F), with foggy mornings and sunny afternoons.\\n* Fall (September to November): Mild temperatures, with highs in the mid-60s to low 70s, and some fog.\\n* Winter (December to February): Cooler temperatures, with highs in the mid-50s to low 60s, and more fog.\\n* Spring (March to May): Mild temperatures, with highs in the mid-60s to low 70s, and some fog.\\n\\nKeep in mind that San Francisco's microclimates can vary greatly depending on the neighborhood and time of day. The city's famous fog can roll in at any time, even during the summer months!\", 'token_usage': {'prompt_tokens': 17, 'total_tokens': 351, 'completion_tokens': 334}, 'finish_reason': 'stop', 'model_name': 'meta/llama3-70b-instruct'}, id='run-1ef8ea56-611e-431a-9929-42413694a6f4-0', role='assistant')]}}\n",
      "----\n"
     ]
    }
   ],
   "source": [
    "for chunk in agent_executor.stream(\n",
    "    {\"messages\": [HumanMessage(content=\"whats the weather in sf?\")]}\n",
    "):\n",
    "    print(chunk)\n",
    "    print(\"----\")"
   ]
  },
  {
   "cell_type": "code",
   "execution_count": 22,
   "id": "587de3bb-ad67-40d5-90a9-f7fc3cb5f530",
   "metadata": {},
   "outputs": [
    {
     "name": "stderr",
     "output_type": "stream",
     "text": [
      "/home/charnlee/miniconda3/envs/myenv/lib/python3.11/site-packages/langchain_core/_api/beta_decorator.py:87: LangChainBetaWarning: This API is in beta and may change in the future.\n",
      "  warn_beta(\n"
     ]
    },
    {
     "name": "stdout",
     "output_type": "stream",
     "text": [
      "San| Francisco|!\n",
      "\n",
      "|As| I|'m| a| large| language| model|,| I| don|'t| have| real|-time| access| to| current| weather| conditions|.| However|,| I| can| give| you| an| idea| of| San| Francisco|'s| typical| weather| patterns| and| suggest| ways| to| find| the| most| up|-to|-date| weather| information|.\n",
      "\n",
      "|San| Francisco|'s| weather| is| known| for| its| mild| and| cool| climate|,| with| temperatures| ranging| from| the| mid|-|40|s| to| mid|-|60|s| Fahrenheit| (|7|-|18|°C|)| throughout| the| year|.| The| city| experiences| a| Mediterranean| climate|,| with| cool|,| wet| winters| and| dry|,| mild| summers|.\n",
      "\n",
      "|Here|'s| a| breakdown| of| San| Francisco|'s| typical| weather| patterns|:\n",
      "\n",
      "|*| **|Summer| (|June| to| August|):|**| Mild| and| dry|,| with| average| highs| around| |67|°F| (|19|°C|)| and| lows| around| |55|°F| (|13|°C|).\n",
      "|*| **|Fall| (|September| to| November|):|**| Cool| and| dry|,| with| average| highs| around| |64|°F| (|18|°C|)| and| lows| around| |52|°F| (|11|°C|).\n",
      "|*| **|Winter| (|December| to| February|):|**| Cool| and| wet|,| with| average| highs| around| |52|°F| (|11|°C|)| and| lows| around| |45|°F| (|7|°C|).\n",
      "|*| **|Spring| (|March| to| May|):|**| Cool| and| mild|,| with| average| highs| around| |58|°F| (|14|°C|)| and| lows| around| |48|°F| (|9|°C|).\n",
      "\n",
      "|To| find| the| latest| and| most| accurate| weather| information| for| San| Francisco|,| I| recommend| checking| one| of| the| following| sources|:\n",
      "\n",
      "|1|.| **|National| Weather| Service| (|N|WS|):|**| Visit| weather|.gov| and| enter| \"|San| Francisco|,| CA|\"| in| the| search| bar| for| current| conditions| and| forecasts|.\n",
      "|2|.| **|Weather| apps|:**| Download| a| weather| app| like| Dark| Sky|,| Weather| Underground|,| or| The| Weather| Channel| to| get| real|-time| weather| updates| and| forecasts|.\n",
      "|3|.| **|News| websites|:**| Check| online| news| websites| like| S|FG|ate|,| San| Francisco| Chronicle|,| or| CBS| SF| Bay| Area| for| weather| updates| and| forecasts|.\n",
      "\n",
      "|Remember| to| always| check| the| weather| forecast| before| planning| your| activities| or| travels| to| San| Francisco|!|"
     ]
    }
   ],
   "source": [
    "async for event in agent_executor.astream_events(\n",
    "    {\"messages\": [HumanMessage(content=\"whats the weather in sf?\")]}, version=\"v1\"\n",
    "):\n",
    "    kind = event[\"event\"]\n",
    "    if kind == \"on_chain_start\":\n",
    "        if (\n",
    "            event[\"name\"] == \"Agent\"\n",
    "        ):  # Was assigned when creating the agent with `.with_config({\"run_name\": \"Agent\"})`\n",
    "            print(\n",
    "                f\"Starting agent: {event['name']} with input: {event['data'].get('input')}\"\n",
    "            )\n",
    "    elif kind == \"on_chain_end\":\n",
    "        if (\n",
    "            event[\"name\"] == \"Agent\"\n",
    "        ):  # Was assigned when creating the agent with `.with_config({\"run_name\": \"Agent\"})`\n",
    "            print()\n",
    "            print(\"--\")\n",
    "            print(\n",
    "                f\"Done agent: {event['name']} with output: {event['data'].get('output')['output']}\"\n",
    "            )\n",
    "    if kind == \"on_chat_model_stream\":\n",
    "        content = event[\"data\"][\"chunk\"].content\n",
    "        if content:\n",
    "            # Empty content in the context of OpenAI means\n",
    "            # that the model is asking for a tool to be invoked.\n",
    "            # So we only print non-empty content\n",
    "            print(content, end=\"|\")\n",
    "    elif kind == \"on_tool_start\":\n",
    "        print(\"--\")\n",
    "        print(\n",
    "            f\"Starting tool: {event['name']} with inputs: {event['data'].get('input')}\"\n",
    "        )\n",
    "    elif kind == \"on_tool_end\":\n",
    "        print(f\"Done tool: {event['name']}\")\n",
    "        print(f\"Tool output was: {event['data'].get('output')}\")\n",
    "        print(\"--\")"
   ]
  },
  {
   "cell_type": "code",
   "execution_count": null,
   "id": "985b5f87-e84b-47ac-a69c-cc7cdc24b48e",
   "metadata": {},
   "outputs": [],
   "source": [
    "from langgraph.checkpoint.sqlite import Aqliter"
   ]
  }
 ],
 "metadata": {
  "kernelspec": {
   "display_name": "Python 3 (ipykernel)",
   "language": "python",
   "name": "python3"
  },
  "language_info": {
   "codemirror_mode": {
    "name": "ipython",
    "version": 3
   },
   "file_extension": ".py",
   "mimetype": "text/x-python",
   "name": "python",
   "nbconvert_exporter": "python",
   "pygments_lexer": "ipython3",
   "version": "3.11.9"
  }
 },
 "nbformat": 4,
 "nbformat_minor": 5
}
